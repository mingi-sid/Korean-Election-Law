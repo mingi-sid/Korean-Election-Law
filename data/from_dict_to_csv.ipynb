{
 "cells": [
  {
   "cell_type": "code",
   "execution_count": 71,
   "metadata": {},
   "outputs": [],
   "source": [
    "import pickle\n",
    "import pandas as pd\n",
    "\n",
    "district_result_full = pickle.load(open('district_result.pickle', 'rb'))\n",
    "representative_result_full = pickle.load(open('representative_result.pickle', 'rb'))"
   ]
  },
  {
   "cell_type": "code",
   "execution_count": 72,
   "metadata": {},
   "outputs": [],
   "source": [
    "district_result_column_names = ['광역자치단체명',\n",
    "                                '선거구',\n",
    "                                '선거구 설명',\n",
    "                                '기호',\n",
    "                                '정당명',\n",
    "                                '후보자명(한글)',\n",
    "                                '후보자명(한자)',\n",
    "                                '득표수',\n",
    "                                '득표율',\n",
    "                                '순위',\n",
    "                                '당선여부',\n",
    "                                '중도탈락여부',\n",
    "                                '전체유권자수',\n",
    "                                '전체투표수',\n",
    "                                '전체무효표수']\n",
    "district_result_lines = []\n",
    "for wide_unit_name in district_result_full:\n",
    "    for dist_dict in district_result_full[wide_unit_name]:\n",
    "        dist_name = dist_dict['district_name']\n",
    "        dist_info = dist_dict['district_info'].replace('\\n', ' ')\n",
    "        dist_elec_num = dist_dict['electors_num']\n",
    "        dist_vote_num = dist_dict['voted_num']\n",
    "        dist_null_num = dist_dict['nullified_num']\n",
    "        for candidate_dict in dist_dict['candidates']:\n",
    "            result_line = [wide_unit_name,\n",
    "                           dist_name,\n",
    "                           dist_info,\n",
    "                           candidate_dict['candidate_no'],\n",
    "                           candidate_dict['party_name'].split('(')[0],\n",
    "                           candidate_dict['candidate_name'].split('(')[0],\n",
    "                           candidate_dict['candidate_name'].split('(')[1].replace(')', ''),\n",
    "                           candidate_dict['received_votes'],\n",
    "                           candidate_dict['received_votes_ratio'],\n",
    "                           candidate_dict['received_votes_rank'],\n",
    "                           candidate_dict['is_elected'],\n",
    "                           candidate_dict['is_resigned'],\n",
    "                           dist_elec_num,\n",
    "                           dist_vote_num,\n",
    "                           dist_null_num]\n",
    "            district_result_lines.append(result_line)"
   ]
  },
  {
   "cell_type": "code",
   "execution_count": 73,
   "metadata": {},
   "outputs": [
    {
     "data": {
      "text/plain": [
       "1118"
      ]
     },
     "execution_count": 73,
     "metadata": {},
     "output_type": "execute_result"
    }
   ],
   "source": [
    "len(district_result_lines)"
   ]
  },
  {
   "cell_type": "code",
   "execution_count": 74,
   "metadata": {},
   "outputs": [],
   "source": [
    "district_result_df = pd.DataFrame(district_result_lines, columns=district_result_column_names)"
   ]
  },
  {
   "cell_type": "code",
   "execution_count": 75,
   "metadata": {},
   "outputs": [
    {
     "data": {
      "text/html": [
       "<div>\n",
       "<style scoped>\n",
       "    .dataframe tbody tr th:only-of-type {\n",
       "        vertical-align: middle;\n",
       "    }\n",
       "\n",
       "    .dataframe tbody tr th {\n",
       "        vertical-align: top;\n",
       "    }\n",
       "\n",
       "    .dataframe thead th {\n",
       "        text-align: right;\n",
       "    }\n",
       "</style>\n",
       "<table border=\"1\" class=\"dataframe\">\n",
       "  <thead>\n",
       "    <tr style=\"text-align: right;\">\n",
       "      <th></th>\n",
       "      <th>광역자치단체명</th>\n",
       "      <th>선거구</th>\n",
       "      <th>선거구 설명</th>\n",
       "      <th>기호</th>\n",
       "      <th>정당명</th>\n",
       "      <th>후보자명(한글)</th>\n",
       "      <th>후보자명(한자)</th>\n",
       "      <th>득표수</th>\n",
       "      <th>득표율</th>\n",
       "      <th>순위</th>\n",
       "      <th>당선여부</th>\n",
       "      <th>중도탈락여부</th>\n",
       "      <th>전체유권자수</th>\n",
       "      <th>전체투표수</th>\n",
       "      <th>전체무효표수</th>\n",
       "    </tr>\n",
       "  </thead>\n",
       "  <tbody>\n",
       "    <tr>\n",
       "      <th>0</th>\n",
       "      <td>서울특별시</td>\n",
       "      <td>종로구</td>\n",
       "      <td>종로구 일원 [1]</td>\n",
       "      <td>1</td>\n",
       "      <td>더불어민주당</td>\n",
       "      <td>이낙연</td>\n",
       "      <td>李洛淵</td>\n",
       "      <td>54902</td>\n",
       "      <td>58.38</td>\n",
       "      <td>1.0</td>\n",
       "      <td>True</td>\n",
       "      <td>False</td>\n",
       "      <td>134516</td>\n",
       "      <td>95239</td>\n",
       "      <td>1201</td>\n",
       "    </tr>\n",
       "    <tr>\n",
       "      <th>1</th>\n",
       "      <td>서울특별시</td>\n",
       "      <td>종로구</td>\n",
       "      <td>종로구 일원 [1]</td>\n",
       "      <td>2</td>\n",
       "      <td>미래통합당</td>\n",
       "      <td>황교안</td>\n",
       "      <td>黃敎安</td>\n",
       "      <td>37594</td>\n",
       "      <td>39.97</td>\n",
       "      <td>2.0</td>\n",
       "      <td>False</td>\n",
       "      <td>False</td>\n",
       "      <td>134516</td>\n",
       "      <td>95239</td>\n",
       "      <td>1201</td>\n",
       "    </tr>\n",
       "    <tr>\n",
       "      <th>2</th>\n",
       "      <td>서울특별시</td>\n",
       "      <td>종로구</td>\n",
       "      <td>종로구 일원 [1]</td>\n",
       "      <td>7</td>\n",
       "      <td>우리공화당</td>\n",
       "      <td>한민호</td>\n",
       "      <td>韓民鎬</td>\n",
       "      <td>417</td>\n",
       "      <td>0.44</td>\n",
       "      <td>3.0</td>\n",
       "      <td>False</td>\n",
       "      <td>False</td>\n",
       "      <td>134516</td>\n",
       "      <td>95239</td>\n",
       "      <td>1201</td>\n",
       "    </tr>\n",
       "    <tr>\n",
       "      <th>3</th>\n",
       "      <td>서울특별시</td>\n",
       "      <td>종로구</td>\n",
       "      <td>종로구 일원 [1]</td>\n",
       "      <td>8</td>\n",
       "      <td>민중당</td>\n",
       "      <td>오인환</td>\n",
       "      <td>吳璘煥</td>\n",
       "      <td>276</td>\n",
       "      <td>0.29</td>\n",
       "      <td>4.0</td>\n",
       "      <td>False</td>\n",
       "      <td>False</td>\n",
       "      <td>134516</td>\n",
       "      <td>95239</td>\n",
       "      <td>1201</td>\n",
       "    </tr>\n",
       "    <tr>\n",
       "      <th>4</th>\n",
       "      <td>서울특별시</td>\n",
       "      <td>종로구</td>\n",
       "      <td>종로구 일원 [1]</td>\n",
       "      <td>9</td>\n",
       "      <td>가자!평화인권당</td>\n",
       "      <td>이정희</td>\n",
       "      <td>李貞嬉</td>\n",
       "      <td>139</td>\n",
       "      <td>0.14</td>\n",
       "      <td>7.0</td>\n",
       "      <td>False</td>\n",
       "      <td>False</td>\n",
       "      <td>134516</td>\n",
       "      <td>95239</td>\n",
       "      <td>1201</td>\n",
       "    </tr>\n",
       "    <tr>\n",
       "      <th>...</th>\n",
       "      <td>...</td>\n",
       "      <td>...</td>\n",
       "      <td>...</td>\n",
       "      <td>...</td>\n",
       "      <td>...</td>\n",
       "      <td>...</td>\n",
       "      <td>...</td>\n",
       "      <td>...</td>\n",
       "      <td>...</td>\n",
       "      <td>...</td>\n",
       "      <td>...</td>\n",
       "      <td>...</td>\n",
       "      <td>...</td>\n",
       "      <td>...</td>\n",
       "      <td>...</td>\n",
       "    </tr>\n",
       "    <tr>\n",
       "      <th>1113</th>\n",
       "      <td>제주특별자치도</td>\n",
       "      <td>제주시 을</td>\n",
       "      <td>일도1동, 일도2동, 이도1동, 이도2동, 건입동, 화북동, 삼양동, 봉개동, 아라...</td>\n",
       "      <td>8</td>\n",
       "      <td>국가혁명배당금당</td>\n",
       "      <td>전윤영</td>\n",
       "      <td>田倫榮</td>\n",
       "      <td>627</td>\n",
       "      <td>0.51</td>\n",
       "      <td>4.0</td>\n",
       "      <td>False</td>\n",
       "      <td>False</td>\n",
       "      <td>191862</td>\n",
       "      <td>122883</td>\n",
       "      <td>1471</td>\n",
       "    </tr>\n",
       "    <tr>\n",
       "      <th>1114</th>\n",
       "      <td>제주특별자치도</td>\n",
       "      <td>제주시 을</td>\n",
       "      <td>일도1동, 일도2동, 이도1동, 이도2동, 건입동, 화북동, 삼양동, 봉개동, 아라...</td>\n",
       "      <td>9</td>\n",
       "      <td>한나라당</td>\n",
       "      <td>차주홍</td>\n",
       "      <td>車柱洪</td>\n",
       "      <td>473</td>\n",
       "      <td>0.38</td>\n",
       "      <td>5.0</td>\n",
       "      <td>False</td>\n",
       "      <td>False</td>\n",
       "      <td>191862</td>\n",
       "      <td>122883</td>\n",
       "      <td>1471</td>\n",
       "    </tr>\n",
       "    <tr>\n",
       "      <th>1115</th>\n",
       "      <td>제주특별자치도</td>\n",
       "      <td>서귀포시</td>\n",
       "      <td>서귀포시 일원 [1]</td>\n",
       "      <td>1</td>\n",
       "      <td>더불어민주당</td>\n",
       "      <td>위성곤</td>\n",
       "      <td>魏聖坤</td>\n",
       "      <td>53345</td>\n",
       "      <td>55.48</td>\n",
       "      <td>1.0</td>\n",
       "      <td>True</td>\n",
       "      <td>False</td>\n",
       "      <td>152676</td>\n",
       "      <td>97530</td>\n",
       "      <td>1387</td>\n",
       "    </tr>\n",
       "    <tr>\n",
       "      <th>1116</th>\n",
       "      <td>제주특별자치도</td>\n",
       "      <td>서귀포시</td>\n",
       "      <td>서귀포시 일원 [1]</td>\n",
       "      <td>2</td>\n",
       "      <td>미래통합당</td>\n",
       "      <td>강경필</td>\n",
       "      <td>姜景弼</td>\n",
       "      <td>41689</td>\n",
       "      <td>43.36</td>\n",
       "      <td>2.0</td>\n",
       "      <td>False</td>\n",
       "      <td>False</td>\n",
       "      <td>152676</td>\n",
       "      <td>97530</td>\n",
       "      <td>1387</td>\n",
       "    </tr>\n",
       "    <tr>\n",
       "      <th>1117</th>\n",
       "      <td>제주특별자치도</td>\n",
       "      <td>서귀포시</td>\n",
       "      <td>서귀포시 일원 [1]</td>\n",
       "      <td>7</td>\n",
       "      <td>국가혁명배당금당</td>\n",
       "      <td>문광삼</td>\n",
       "      <td>文光三</td>\n",
       "      <td>1109</td>\n",
       "      <td>1.15</td>\n",
       "      <td>3.0</td>\n",
       "      <td>False</td>\n",
       "      <td>False</td>\n",
       "      <td>152676</td>\n",
       "      <td>97530</td>\n",
       "      <td>1387</td>\n",
       "    </tr>\n",
       "  </tbody>\n",
       "</table>\n",
       "<p>1118 rows × 15 columns</p>\n",
       "</div>"
      ],
      "text/plain": [
       "      광역자치단체명    선거구                                             선거구 설명  기호  \\\n",
       "0       서울특별시    종로구                                         종로구 일원 [1]   1   \n",
       "1       서울특별시    종로구                                         종로구 일원 [1]   2   \n",
       "2       서울특별시    종로구                                         종로구 일원 [1]   7   \n",
       "3       서울특별시    종로구                                         종로구 일원 [1]   8   \n",
       "4       서울특별시    종로구                                         종로구 일원 [1]   9   \n",
       "...       ...    ...                                                ...  ..   \n",
       "1113  제주특별자치도  제주시 을  일도1동, 일도2동, 이도1동, 이도2동, 건입동, 화북동, 삼양동, 봉개동, 아라...   8   \n",
       "1114  제주특별자치도  제주시 을  일도1동, 일도2동, 이도1동, 이도2동, 건입동, 화북동, 삼양동, 봉개동, 아라...   9   \n",
       "1115  제주특별자치도   서귀포시                                        서귀포시 일원 [1]   1   \n",
       "1116  제주특별자치도   서귀포시                                        서귀포시 일원 [1]   2   \n",
       "1117  제주특별자치도   서귀포시                                        서귀포시 일원 [1]   7   \n",
       "\n",
       "           정당명 후보자명(한글) 후보자명(한자)    득표수    득표율   순위   당선여부  중도탈락여부  전체유권자수  \\\n",
       "0       더불어민주당      이낙연      李洛淵  54902  58.38  1.0   True   False  134516   \n",
       "1        미래통합당      황교안      黃敎安  37594  39.97  2.0  False   False  134516   \n",
       "2        우리공화당      한민호      韓民鎬    417   0.44  3.0  False   False  134516   \n",
       "3          민중당      오인환      吳璘煥    276   0.29  4.0  False   False  134516   \n",
       "4     가자!평화인권당      이정희      李貞嬉    139   0.14  7.0  False   False  134516   \n",
       "...        ...      ...      ...    ...    ...  ...    ...     ...     ...   \n",
       "1113  국가혁명배당금당      전윤영      田倫榮    627   0.51  4.0  False   False  191862   \n",
       "1114      한나라당      차주홍      車柱洪    473   0.38  5.0  False   False  191862   \n",
       "1115    더불어민주당      위성곤      魏聖坤  53345  55.48  1.0   True   False  152676   \n",
       "1116     미래통합당      강경필      姜景弼  41689  43.36  2.0  False   False  152676   \n",
       "1117  국가혁명배당금당      문광삼      文光三   1109   1.15  3.0  False   False  152676   \n",
       "\n",
       "       전체투표수  전체무효표수  \n",
       "0      95239    1201  \n",
       "1      95239    1201  \n",
       "2      95239    1201  \n",
       "3      95239    1201  \n",
       "4      95239    1201  \n",
       "...      ...     ...  \n",
       "1113  122883    1471  \n",
       "1114  122883    1471  \n",
       "1115   97530    1387  \n",
       "1116   97530    1387  \n",
       "1117   97530    1387  \n",
       "\n",
       "[1118 rows x 15 columns]"
      ]
     },
     "execution_count": 75,
     "metadata": {},
     "output_type": "execute_result"
    }
   ],
   "source": [
    "district_result_df"
   ]
  },
  {
   "cell_type": "code",
   "execution_count": 76,
   "metadata": {},
   "outputs": [
    {
     "data": {
      "text/plain": [
       "array(['더불어민주당', '미래통합당', '우리공화당', '민중당', '가자!평화인권당', '공화당', '국가혁명배당금당',\n",
       "       '국민새정당', '기독자유통일당', '민중민주당', '한나라당', '무소속', '정의당', '민생당', '미래당',\n",
       "       '한국복지당', '기본소득당', '통일민주당', '친박신당', '새누리당', '노동당', '충청의미래당'],\n",
       "      dtype=object)"
      ]
     },
     "execution_count": 76,
     "metadata": {},
     "output_type": "execute_result"
    }
   ],
   "source": [
    "district_result_df['정당명'].unique()"
   ]
  },
  {
   "cell_type": "code",
   "execution_count": 77,
   "metadata": {},
   "outputs": [
    {
     "data": {
      "text/plain": [
       "Counter({'서울특별시': 49,\n",
       "         '부산광역시': 18,\n",
       "         '대구광역시': 12,\n",
       "         '인천광역시': 13,\n",
       "         '광주광역시': 8,\n",
       "         '대전광역시': 7,\n",
       "         '울산광역시': 6,\n",
       "         '세종특별자치시': 2,\n",
       "         '경기도': 59,\n",
       "         '강원도': 8,\n",
       "         '충청북도': 8,\n",
       "         '충청남도': 11,\n",
       "         '전라북도': 10,\n",
       "         '전라남도': 10,\n",
       "         '경상북도': 13,\n",
       "         '경상남도': 16,\n",
       "         '제주특별자치도': 3})"
      ]
     },
     "execution_count": 77,
     "metadata": {},
     "output_type": "execute_result"
    }
   ],
   "source": [
    "from collections import Counter\n",
    "Counter([t[0] for t in district_result_df[['광역자치단체명', '선거구']].apply(lambda x: tuple(x), axis=1).unique()])"
   ]
  },
  {
   "cell_type": "code",
   "execution_count": 78,
   "metadata": {},
   "outputs": [
    {
     "data": {
      "text/plain": [
       "253"
      ]
     },
     "execution_count": 78,
     "metadata": {},
     "output_type": "execute_result"
    }
   ],
   "source": [
    "district_result_df['당선여부'].sum()"
   ]
  },
  {
   "cell_type": "code",
   "execution_count": 79,
   "metadata": {},
   "outputs": [],
   "source": [
    "district_result_df.to_csv('district_result.csv', index=False)"
   ]
  },
  {
   "cell_type": "markdown",
   "metadata": {},
   "source": [
    "## 비례대표"
   ]
  },
  {
   "cell_type": "code",
   "execution_count": 80,
   "metadata": {},
   "outputs": [],
   "source": [
    "representative_result_column_names = ['광역자치단체명',\n",
    "                                    '기호',\n",
    "                                    '정당명',\n",
    "                                    '득표수',\n",
    "                                    '득표율',\n",
    "                                    '전체유권자수',\n",
    "                                    '전체투표수',\n",
    "                                    '전체무효표수']\n",
    "representative_result_lines = []\n",
    "for wide_unit_name in representative_result_full:\n",
    "    repr_dict = representative_result_full[wide_unit_name]\n",
    "    repr_elec_num = repr_dict['electors_num']\n",
    "    repr_vote_num = repr_dict['voted_num']\n",
    "    repr_null_num = repr_dict['nullified_num']\n",
    "    for party_dict in repr_dict['parties']:\n",
    "        result_line = [wide_unit_name,\n",
    "                        party_dict['party_no'],\n",
    "                        party_dict['party_name'].split('(')[0],\n",
    "                        party_dict['received_votes'],\n",
    "                        party_dict['received_votes_ratio'],\n",
    "                        repr_elec_num,\n",
    "                        repr_vote_num,\n",
    "                        repr_null_num]\n",
    "        representative_result_lines.append(result_line)"
   ]
  },
  {
   "cell_type": "code",
   "execution_count": 81,
   "metadata": {},
   "outputs": [
    {
     "data": {
      "text/plain": [
       "595"
      ]
     },
     "execution_count": 81,
     "metadata": {},
     "output_type": "execute_result"
    }
   ],
   "source": [
    "len(representative_result_lines)"
   ]
  },
  {
   "cell_type": "code",
   "execution_count": 82,
   "metadata": {},
   "outputs": [],
   "source": [
    "representative_reult_df = pd.DataFrame(representative_result_lines, columns=representative_result_column_names)"
   ]
  },
  {
   "cell_type": "code",
   "execution_count": 83,
   "metadata": {},
   "outputs": [
    {
     "data": {
      "text/html": [
       "<div>\n",
       "<style scoped>\n",
       "    .dataframe tbody tr th:only-of-type {\n",
       "        vertical-align: middle;\n",
       "    }\n",
       "\n",
       "    .dataframe tbody tr th {\n",
       "        vertical-align: top;\n",
       "    }\n",
       "\n",
       "    .dataframe thead th {\n",
       "        text-align: right;\n",
       "    }\n",
       "</style>\n",
       "<table border=\"1\" class=\"dataframe\">\n",
       "  <thead>\n",
       "    <tr style=\"text-align: right;\">\n",
       "      <th></th>\n",
       "      <th>광역자치단체명</th>\n",
       "      <th>기호</th>\n",
       "      <th>정당명</th>\n",
       "      <th>득표수</th>\n",
       "      <th>득표율</th>\n",
       "      <th>전체유권자수</th>\n",
       "      <th>전체투표수</th>\n",
       "      <th>전체무효표수</th>\n",
       "    </tr>\n",
       "  </thead>\n",
       "  <tbody>\n",
       "    <tr>\n",
       "      <th>0</th>\n",
       "      <td>서울특별시</td>\n",
       "      <td>3</td>\n",
       "      <td>민생당</td>\n",
       "      <td>135434</td>\n",
       "      <td>2.43</td>\n",
       "      <td>8477244</td>\n",
       "      <td>5775433</td>\n",
       "      <td>213102</td>\n",
       "    </tr>\n",
       "    <tr>\n",
       "      <th>1</th>\n",
       "      <td>서울특별시</td>\n",
       "      <td>4</td>\n",
       "      <td>미래한국당</td>\n",
       "      <td>1841544</td>\n",
       "      <td>33.10</td>\n",
       "      <td>8477244</td>\n",
       "      <td>5775433</td>\n",
       "      <td>213102</td>\n",
       "    </tr>\n",
       "    <tr>\n",
       "      <th>2</th>\n",
       "      <td>서울특별시</td>\n",
       "      <td>5</td>\n",
       "      <td>더불어시민당</td>\n",
       "      <td>1846902</td>\n",
       "      <td>33.20</td>\n",
       "      <td>8477244</td>\n",
       "      <td>5775433</td>\n",
       "      <td>213102</td>\n",
       "    </tr>\n",
       "    <tr>\n",
       "      <th>3</th>\n",
       "      <td>서울특별시</td>\n",
       "      <td>6</td>\n",
       "      <td>정의당</td>\n",
       "      <td>541583</td>\n",
       "      <td>9.73</td>\n",
       "      <td>8477244</td>\n",
       "      <td>5775433</td>\n",
       "      <td>213102</td>\n",
       "    </tr>\n",
       "    <tr>\n",
       "      <th>4</th>\n",
       "      <td>서울특별시</td>\n",
       "      <td>7</td>\n",
       "      <td>우리공화당</td>\n",
       "      <td>34314</td>\n",
       "      <td>0.61</td>\n",
       "      <td>8477244</td>\n",
       "      <td>5775433</td>\n",
       "      <td>213102</td>\n",
       "    </tr>\n",
       "    <tr>\n",
       "      <th>...</th>\n",
       "      <td>...</td>\n",
       "      <td>...</td>\n",
       "      <td>...</td>\n",
       "      <td>...</td>\n",
       "      <td>...</td>\n",
       "      <td>...</td>\n",
       "      <td>...</td>\n",
       "      <td>...</td>\n",
       "    </tr>\n",
       "    <tr>\n",
       "      <th>590</th>\n",
       "      <td>제주특별자치도</td>\n",
       "      <td>33</td>\n",
       "      <td>중소자영업당</td>\n",
       "      <td>499</td>\n",
       "      <td>0.14</td>\n",
       "      <td>554956</td>\n",
       "      <td>349029</td>\n",
       "      <td>15192</td>\n",
       "    </tr>\n",
       "    <tr>\n",
       "      <th>591</th>\n",
       "      <td>제주특별자치도</td>\n",
       "      <td>34</td>\n",
       "      <td>충청의미래당</td>\n",
       "      <td>102</td>\n",
       "      <td>0.03</td>\n",
       "      <td>554956</td>\n",
       "      <td>349029</td>\n",
       "      <td>15192</td>\n",
       "    </tr>\n",
       "    <tr>\n",
       "      <th>592</th>\n",
       "      <td>제주특별자치도</td>\n",
       "      <td>35</td>\n",
       "      <td>통일민주당</td>\n",
       "      <td>334</td>\n",
       "      <td>0.10</td>\n",
       "      <td>554956</td>\n",
       "      <td>349029</td>\n",
       "      <td>15192</td>\n",
       "    </tr>\n",
       "    <tr>\n",
       "      <th>593</th>\n",
       "      <td>제주특별자치도</td>\n",
       "      <td>36</td>\n",
       "      <td>한국복지당</td>\n",
       "      <td>330</td>\n",
       "      <td>0.09</td>\n",
       "      <td>554956</td>\n",
       "      <td>349029</td>\n",
       "      <td>15192</td>\n",
       "    </tr>\n",
       "    <tr>\n",
       "      <th>594</th>\n",
       "      <td>제주특별자치도</td>\n",
       "      <td>37</td>\n",
       "      <td>홍익당</td>\n",
       "      <td>340</td>\n",
       "      <td>0.10</td>\n",
       "      <td>554956</td>\n",
       "      <td>349029</td>\n",
       "      <td>15192</td>\n",
       "    </tr>\n",
       "  </tbody>\n",
       "</table>\n",
       "<p>595 rows × 8 columns</p>\n",
       "</div>"
      ],
      "text/plain": [
       "     광역자치단체명  기호     정당명      득표수    득표율   전체유권자수    전체투표수  전체무효표수\n",
       "0      서울특별시   3     민생당   135434   2.43  8477244  5775433  213102\n",
       "1      서울특별시   4   미래한국당  1841544  33.10  8477244  5775433  213102\n",
       "2      서울특별시   5  더불어시민당  1846902  33.20  8477244  5775433  213102\n",
       "3      서울특별시   6     정의당   541583   9.73  8477244  5775433  213102\n",
       "4      서울특별시   7   우리공화당    34314   0.61  8477244  5775433  213102\n",
       "..       ...  ..     ...      ...    ...      ...      ...     ...\n",
       "590  제주특별자치도  33  중소자영업당      499   0.14   554956   349029   15192\n",
       "591  제주특별자치도  34  충청의미래당      102   0.03   554956   349029   15192\n",
       "592  제주특별자치도  35   통일민주당      334   0.10   554956   349029   15192\n",
       "593  제주특별자치도  36   한국복지당      330   0.09   554956   349029   15192\n",
       "594  제주특별자치도  37     홍익당      340   0.10   554956   349029   15192\n",
       "\n",
       "[595 rows x 8 columns]"
      ]
     },
     "execution_count": 83,
     "metadata": {},
     "output_type": "execute_result"
    }
   ],
   "source": [
    "representative_reult_df"
   ]
  },
  {
   "cell_type": "code",
   "execution_count": 84,
   "metadata": {},
   "outputs": [
    {
     "data": {
      "text/plain": [
       "35"
      ]
     },
     "execution_count": 84,
     "metadata": {},
     "output_type": "execute_result"
    }
   ],
   "source": [
    "representative_reult_df['정당명'].unique().size"
   ]
  },
  {
   "cell_type": "code",
   "execution_count": 85,
   "metadata": {},
   "outputs": [
    {
     "data": {
      "text/plain": [
       "29126396.0"
      ]
     },
     "execution_count": 85,
     "metadata": {},
     "output_type": "execute_result"
    }
   ],
   "source": [
    "representative_reult_df['득표수'].sum() + (representative_reult_df['전체무효표수'].sum() / 35)"
   ]
  },
  {
   "cell_type": "code",
   "execution_count": 86,
   "metadata": {},
   "outputs": [
    {
     "data": {
      "text/plain": [
       "29126396.0"
      ]
     },
     "execution_count": 86,
     "metadata": {},
     "output_type": "execute_result"
    }
   ],
   "source": [
    "representative_reult_df['전체투표수'].sum() / 35"
   ]
  },
  {
   "cell_type": "code",
   "execution_count": 87,
   "metadata": {},
   "outputs": [
    {
     "data": {
      "text/plain": [
       "43994247.0"
      ]
     },
     "execution_count": 87,
     "metadata": {},
     "output_type": "execute_result"
    }
   ],
   "source": [
    "representative_reult_df['전체유권자수'].sum() / 35"
   ]
  },
  {
   "cell_type": "code",
   "execution_count": 88,
   "metadata": {},
   "outputs": [
    {
     "data": {
      "text/plain": [
       "광역자치단체명\n",
       "강원도        0.0\n",
       "경기도        0.0\n",
       "경상남도       0.0\n",
       "경상북도       0.0\n",
       "광주광역시      0.0\n",
       "대구광역시      0.0\n",
       "대전광역시      0.0\n",
       "부산광역시      0.0\n",
       "서울특별시      0.0\n",
       "세종특별자치시    0.0\n",
       "울산광역시      0.0\n",
       "인천광역시      0.0\n",
       "전라남도       0.0\n",
       "전라북도       0.0\n",
       "제주특별자치도    0.0\n",
       "충청남도       0.0\n",
       "충청북도       0.0\n",
       "dtype: float64"
      ]
     },
     "execution_count": 88,
     "metadata": {},
     "output_type": "execute_result"
    }
   ],
   "source": [
    "representative_reult_df.groupby('광역자치단체명')['득표수'].sum() + (representative_reult_df.groupby('광역자치단체명')['전체무효표수'].sum() / 35) - representative_reult_df.groupby('광역자치단체명')['전체투표수'].mean()"
   ]
  },
  {
   "cell_type": "code",
   "execution_count": 89,
   "metadata": {},
   "outputs": [],
   "source": [
    "representative_reult_df.to_csv('representative_result.csv', index=False)"
   ]
  },
  {
   "cell_type": "code",
   "execution_count": null,
   "metadata": {},
   "outputs": [],
   "source": []
  }
 ],
 "metadata": {
  "kernelspec": {
   "display_name": "base",
   "language": "python",
   "name": "python3"
  },
  "language_info": {
   "codemirror_mode": {
    "name": "ipython",
    "version": 3
   },
   "file_extension": ".py",
   "mimetype": "text/x-python",
   "name": "python",
   "nbconvert_exporter": "python",
   "pygments_lexer": "ipython3",
   "version": "3.7.7"
  },
  "orig_nbformat": 4
 },
 "nbformat": 4,
 "nbformat_minor": 2
}
